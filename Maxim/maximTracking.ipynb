{
 "cells": [
  {
   "cell_type": "code",
   "execution_count": 6,
   "metadata": {},
   "outputs": [],
   "source": [
    "import pygetwindow as gw\n",
    "\n",
    "def get_active_window(target_window):\n",
    "    active_window = gw.getActiveWindow()\n",
    "    return (active_window and target_window == active_window.title)"
   ]
  },
  {
   "cell_type": "code",
   "execution_count": 7,
   "metadata": {},
   "outputs": [],
   "source": [
    "import ctypes\n",
    "import time\n",
    "import datetime\n",
    "\n",
    "def listen_loading():\n",
    "    # Define necessary structures and constants\n",
    "    class CURSORINFO(ctypes.Structure):\n",
    "        _fields_ = [(\"cbSize\", ctypes.c_uint),\n",
    "                    (\"flags\", ctypes.c_uint),\n",
    "                    (\"hCursor\", ctypes.c_void_p),\n",
    "                    (\"ptScreenPos\", ctypes.wintypes.POINT)]\n",
    "\n",
    "    # Cursor types for default and loading (hourglass/spinning wheel)\n",
    "    IDC_ARROW = 32512\n",
    "    IDC_WAIT = 32514\n",
    "\n",
    "    # Load default and loading cursors\n",
    "    user32 = ctypes.WinDLL('user32')\n",
    "    LoadCursor = user32.LoadCursorW\n",
    "    GetCursorInfo = user32.GetCursorInfo\n",
    "\n",
    "    # Function to load specific cursors\n",
    "    def load_cursor(cursor_id):\n",
    "        return LoadCursor(None, cursor_id)\n",
    "\n",
    "    # Default and loading cursor handles\n",
    "    default_cursor = load_cursor(IDC_ARROW)\n",
    "    loading_cursor = load_cursor(IDC_WAIT)\n",
    "\n",
    "    def check_cursor():\n",
    "        cursor_info = CURSORINFO()\n",
    "        cursor_info.cbSize = ctypes.sizeof(CURSORINFO)\n",
    "        \n",
    "        if GetCursorInfo(ctypes.byref(cursor_info)):\n",
    "            return cursor_info.hCursor\n",
    "        \n",
    "\n",
    "    previous_cursor = None\n",
    "\n",
    "    while True:\n",
    "        current_cursor = check_cursor()\n",
    "\n",
    "        if current_cursor == default_cursor and previous_cursor == \"Loading\":\n",
    "            timestamp = datetime.datetime.now().strftime('%Y-%m-%d %H:%M:%S.%f')[:-3]  # Format with milliseconds\n",
    "            return timestamp\n",
    "        \n",
    "        elif current_cursor == loading_cursor:\n",
    "            previous_cursor = \"Loading\"\n",
    "\n",
    "        time.sleep(0.1)  # Adjust the interval to 0.1 seconds"
   ]
  },
  {
   "cell_type": "code",
   "execution_count": 11,
   "metadata": {},
   "outputs": [
    {
     "name": "stdout",
     "output_type": "stream",
     "text": [
      "Window 'Maxim DeviceStudio - [PPG EV Kit]' gained focus at 2024-09-02 18:06:21\n",
      "2024-09-02 18:06:30.982\n",
      "done\n"
     ]
    }
   ],
   "source": [
    "import win32api\n",
    "import time\n",
    "\n",
    "\n",
    "def intialise_on_click(target_window): \n",
    "    state_left = win32api.GetKeyState(0x01)  # Left button up = 0 or 1. Button down = -127 or -128\n",
    "\n",
    "    started = False\n",
    "\n",
    "    while True:\n",
    "        a = win32api.GetKeyState(0x01)\n",
    "        if a != state_left:  # Button state changed\n",
    "            state_left = a\n",
    "            if a < 0 and get_active_window(target_window) and not started:\n",
    "                print(f\"Window '{target_window}' gained focus at {time.strftime('%Y-%m-%d %H:%M:%S')}\")\n",
    "                monitoring_time = listen_loading()\n",
    "                print(f\"Started Logging at {monitoring_time}\")\n",
    "                started = True\n",
    "            \n",
    "            # Assume that if already focused and already started, means you are stopping (AND NOT CLICKING ANYTHING ELSE)\n",
    "            elif a < 0 and get_active_window(target_window) and started:\n",
    "                timestamp = datetime.datetime.now().strftime('%Y-%m-%d %H:%M:%S.%f')[:-3]  # Format with milliseconds\n",
    "                print(f\"Stopped Logging at {timestamp}\")\n",
    "                break\n",
    "                \n",
    "        time.sleep(0.001)\n",
    "\n",
    "intialise_on_click(\"Maxim DeviceStudio - [PPG EV Kit]\")"
   ]
  },
  {
   "cell_type": "code",
   "execution_count": 35,
   "metadata": {},
   "outputs": [],
   "source": [
    "import csv\n",
    "\n",
    "def convert_to_seconds(time_details):\n",
    "    # Expecting HH:MM:SS.T format\n",
    "    hour, minute, seconds = time_details.split(\":\")\n",
    "    full_timing = int(hour)*60*60 + int(minute)*60 + float(seconds)\n",
    "    return full_timing\n",
    "\n",
    "\n",
    "def convert_csv_timestamps(input_file, output_file):\n",
    "    with open(input_file, mode='r') as infile, open(output_file, mode='w', newline='') as outfile:\n",
    "        reader = csv.reader(infile)\n",
    "        writer = csv.writer(outfile)\n",
    "\n",
    "        #read the header row and write it directly to the output file\n",
    "        header = next(reader)\n",
    "        writer.writerow(header)\n",
    "\n",
    "        #base header\n",
    "        base_row = next(reader)\n",
    "        full_timestamp = base_row[0]\n",
    "        split_timestamp = full_timestamp.split(\" \")\n",
    "        base_timing = convert_to_seconds(split_timestamp[-1])\n",
    "        base_row[0] = 0\n",
    "        writer.writerow(base_row)\n",
    "\n",
    "        for row in reader:\n",
    "            split_timestamp = row[0].split(\" \")\n",
    "            cell_timing = convert_to_seconds(split_timestamp[-1])\n",
    "            time_interval = cell_timing - base_timing\n",
    "            row[0] = time_interval\n",
    "            writer.writerow(row)"
   ]
  },
  {
   "cell_type": "code",
   "execution_count": 38,
   "metadata": {},
   "outputs": [],
   "source": [
    "convert_csv_timestamps('PPG_2024-09-02_17-32-33.csv', 'output2.csv')\n"
   ]
  }
 ],
 "metadata": {
  "kernelspec": {
   "display_name": "Python 3",
   "language": "python",
   "name": "python3"
  },
  "language_info": {
   "codemirror_mode": {
    "name": "ipython",
    "version": 3
   },
   "file_extension": ".py",
   "mimetype": "text/x-python",
   "name": "python",
   "nbconvert_exporter": "python",
   "pygments_lexer": "ipython3",
   "version": "3.9.13"
  }
 },
 "nbformat": 4,
 "nbformat_minor": 2
}
